{
 "cells": [
  {
   "cell_type": "code",
   "execution_count": 1,
   "id": "5c85bea0",
   "metadata": {
    "_cell_guid": "b1076dfc-b9ad-4769-8c92-a6c4dae69d19",
    "_uuid": "8f2839f25d086af736a60e9eeb907d3b93b6e0e5",
    "execution": {
     "iopub.execute_input": "2021-12-20T01:52:16.370899Z",
     "iopub.status.busy": "2021-12-20T01:52:16.369718Z",
     "iopub.status.idle": "2021-12-20T01:52:17.714446Z",
     "shell.execute_reply": "2021-12-20T01:52:17.714915Z",
     "shell.execute_reply.started": "2021-12-20T01:09:02.49499Z"
    },
    "papermill": {
     "duration": 1.360575,
     "end_time": "2021-12-20T01:52:17.715257",
     "exception": false,
     "start_time": "2021-12-20T01:52:16.354682",
     "status": "completed"
    },
    "tags": []
   },
   "outputs": [],
   "source": [
    "import numpy as np\n",
    "import os\n",
    "import torch\n",
    "import torch.nn as nn\n",
    "import torch.nn.functional as F\n",
    "import string\n",
    "import matplotlib.pyplot as plt"
   ]
  },
  {
   "cell_type": "code",
   "execution_count": 2,
   "id": "760d7305",
   "metadata": {
    "execution": {
     "iopub.execute_input": "2021-12-20T01:52:17.741177Z",
     "iopub.status.busy": "2021-12-20T01:52:17.740528Z",
     "iopub.status.idle": "2021-12-20T01:52:17.745650Z",
     "shell.execute_reply": "2021-12-20T01:52:17.745076Z",
     "shell.execute_reply.started": "2021-12-20T01:09:02.502075Z"
    },
    "papermill": {
     "duration": 0.018979,
     "end_time": "2021-12-20T01:52:17.745793",
     "exception": false,
     "start_time": "2021-12-20T01:52:17.726814",
     "status": "completed"
    },
    "tags": []
   },
   "outputs": [],
   "source": [
    "def plotFunction(x, y, xtitle, ytitle, title):\n",
    "    plt.plot(x, y, '-r', label=\"Loss\")\n",
    "    plt.xlabel(ytitle)\n",
    "    plt.ylabel(xtitle)\n",
    "    plt.title(title)\n",
    "    plt.legend()\n",
    "    plt.show()"
   ]
  },
  {
   "cell_type": "code",
   "execution_count": 3,
   "id": "3d12fc63",
   "metadata": {
    "execution": {
     "iopub.execute_input": "2021-12-20T01:52:17.771055Z",
     "iopub.status.busy": "2021-12-20T01:52:17.770483Z",
     "iopub.status.idle": "2021-12-20T01:52:17.773825Z",
     "shell.execute_reply": "2021-12-20T01:52:17.774276Z",
     "shell.execute_reply.started": "2021-12-20T01:09:02.513731Z"
    },
    "papermill": {
     "duration": 0.017626,
     "end_time": "2021-12-20T01:52:17.774435",
     "exception": false,
     "start_time": "2021-12-20T01:52:17.756809",
     "status": "completed"
    },
    "tags": []
   },
   "outputs": [],
   "source": [
    "def addFillers(word, required_length):\n",
    "        filler_length_to_add = required_length - len(word)\n",
    "#         print(filler_length_to_add)\n",
    "        filler = \"\\n\" * filler_length_to_add\n",
    "#         print(word)\n",
    "        word += filler\n",
    "#         print(\"with filler\", word)\n",
    "        return word"
   ]
  },
  {
   "cell_type": "code",
   "execution_count": 4,
   "id": "69eaa846",
   "metadata": {
    "execution": {
     "iopub.execute_input": "2021-12-20T01:52:17.799284Z",
     "iopub.status.busy": "2021-12-20T01:52:17.798661Z",
     "iopub.status.idle": "2021-12-20T01:52:17.850594Z",
     "shell.execute_reply": "2021-12-20T01:52:17.851042Z",
     "shell.execute_reply.started": "2021-12-20T01:09:02.530043Z"
    },
    "papermill": {
     "duration": 0.066008,
     "end_time": "2021-12-20T01:52:17.851240",
     "exception": false,
     "start_time": "2021-12-20T01:52:17.785232",
     "status": "completed"
    },
    "tags": []
   },
   "outputs": [],
   "source": [
    "# Add the path of the file name to train here\n",
    "filepath = '../input/names-dataset/names.txt'\n",
    "file1 = open(filepath)\n",
    "names = file1.readlines()\n",
    "preprocessed_names = []\n",
    "for i in range(len(names)):\n",
    "    if len(names[i]) <= 11:\n",
    "        lower_cased_names = names[i].lower()\n",
    "        preprocessed_names.append(addFillers(lower_cased_names, 11))\n",
    "#      print(\"i\", i, len(preprocessed_names[i]), preprocessed_names[i])\n",
    "device = torch.device('cuda' if torch.cuda.is_available() else 'cpu')\n",
    "alphabet_encoding = {'a': 0, 'b': 1, 'c': 2, 'd': 3, 'e': 4, 'f': 5, 'g': 6, 'h': 7, 'i': 8, 'j': 9, 'k': 10, 'l': 11, 'm': 12,\n",
    "                    'n': 13, 'o': 14, 'p': 15, 'q': 16, 'r': 17, 's': 18, 't': 19, 'u': 20, 'v': 21, 'w': 22, 'x': 23, 'y': 24,\n",
    "                    'z': 25, '\\n': 26}\n",
    "chars = string.ascii_lowercase + '\\n'\n",
    "char_to_id = {c:i for i, c in enumerate(chars)}\n",
    "id_to_char = {v:k for k, v in char_to_id.items()}\n",
    "# print(len(preprocessed_names))"
   ]
  },
  {
   "cell_type": "code",
   "execution_count": 5,
   "id": "663ff7bd",
   "metadata": {
    "execution": {
     "iopub.execute_input": "2021-12-20T01:52:17.876041Z",
     "iopub.status.busy": "2021-12-20T01:52:17.875436Z",
     "iopub.status.idle": "2021-12-20T01:52:17.881876Z",
     "shell.execute_reply": "2021-12-20T01:52:17.882307Z",
     "shell.execute_reply.started": "2021-12-20T01:09:02.584707Z"
    },
    "papermill": {
     "duration": 0.020325,
     "end_time": "2021-12-20T01:52:17.882479",
     "exception": false,
     "start_time": "2021-12-20T01:52:17.862154",
     "status": "completed"
    },
    "tags": []
   },
   "outputs": [
    {
     "data": {
      "text/plain": [
       "31116"
      ]
     },
     "execution_count": 5,
     "metadata": {},
     "output_type": "execute_result"
    }
   ],
   "source": [
    "len(preprocessed_names)"
   ]
  },
  {
   "cell_type": "code",
   "execution_count": 6,
   "id": "3c3c8f6e",
   "metadata": {
    "_cell_guid": "b1076dfc-b9ad-4769-8c92-a6c4dae69d19",
    "_uuid": "8f2839f25d086af736a60e9eeb907d3b93b6e0e5",
    "execution": {
     "iopub.execute_input": "2021-12-20T01:52:17.913861Z",
     "iopub.status.busy": "2021-12-20T01:52:17.913141Z",
     "iopub.status.idle": "2021-12-20T01:52:17.916897Z",
     "shell.execute_reply": "2021-12-20T01:52:17.917393Z",
     "shell.execute_reply.started": "2021-12-20T01:09:02.592213Z"
    },
    "papermill": {
     "duration": 0.02372,
     "end_time": "2021-12-20T01:52:17.917579",
     "exception": false,
     "start_time": "2021-12-20T01:52:17.893859",
     "status": "completed"
    },
    "tags": []
   },
   "outputs": [],
   "source": [
    "class NameDataset(torch.utils.data.Dataset):\n",
    "    alphabet_encoding = {'a': 0, 'b': 1, 'c': 2, 'd': 3, 'e': 4, 'f': 5, 'g': 6, 'h': 7, 'i': 8, 'j': 9, 'k': 10, 'l': 11, 'm': 12,\n",
    "                    'n': 13, 'o': 14, 'p': 15, 'q': 16, 'r': 17, 's': 18, 't': 19, 'u': 20, 'v': 21, 'w': 22, 'x': 23, 'y': 24,\n",
    "                    'z': 25, '\\n': 26}\n",
    "    def __init__(self, names, max_length):\n",
    "        self.names = names\n",
    "        self.max_length = max_length\n",
    "    def __len__(self):\n",
    "        return len(self.names)\n",
    "    def __getitem__(self, index):\n",
    "        name = self.names[index]\n",
    "        expected_output = self.names[index][1:] + '\\n'\n",
    "        encoded_name = self.oneHotEncoding(name)\n",
    "#         print(encoded_name,encoded_name.size())\n",
    "        encoded_output = [self.alphabet_encoding[word] for index, word in enumerate(expected_output)]\n",
    "        encoded_output = torch.tensor(encoded_output)\n",
    "        convert_target = torch.tensor(encoded_output)\n",
    "#         convert_data_to_long = encoded_name.type(torch.LongTensor)\n",
    "        return encoded_name, convert_target\n",
    "    def oneHotEncoding(self, word_to_convert):\n",
    "        letter_indexes = [self.alphabet_encoding[char] for char in word_to_convert]\n",
    "#         print('word', letter_indexes)\n",
    "        one_hot_encoded_string = F.one_hot(torch.tensor(letter_indexes), num_classes = 27)\n",
    "        return one_hot_encoded_string"
   ]
  },
  {
   "cell_type": "code",
   "execution_count": 7,
   "id": "3c7dd6c1",
   "metadata": {
    "execution": {
     "iopub.execute_input": "2021-12-20T01:52:17.943757Z",
     "iopub.status.busy": "2021-12-20T01:52:17.942790Z",
     "iopub.status.idle": "2021-12-20T01:52:17.946981Z",
     "shell.execute_reply": "2021-12-20T01:52:17.947507Z",
     "shell.execute_reply.started": "2021-12-20T01:09:02.607787Z"
    },
    "papermill": {
     "duration": 0.018942,
     "end_time": "2021-12-20T01:52:17.947687",
     "exception": false,
     "start_time": "2021-12-20T01:52:17.928745",
     "status": "completed"
    },
    "tags": []
   },
   "outputs": [],
   "source": [
    "input_size = 27\n",
    "hidden_size = 27\n",
    "output_size = 27\n",
    "number_of_layers = 1\n",
    "train_batch_size = 2593\n",
    "number_of_chars = 11"
   ]
  },
  {
   "cell_type": "code",
   "execution_count": 8,
   "id": "876b6e3a",
   "metadata": {
    "execution": {
     "iopub.execute_input": "2021-12-20T01:52:17.973506Z",
     "iopub.status.busy": "2021-12-20T01:52:17.972593Z",
     "iopub.status.idle": "2021-12-20T01:52:18.162759Z",
     "shell.execute_reply": "2021-12-20T01:52:18.163161Z",
     "shell.execute_reply.started": "2021-12-20T01:09:02.624685Z"
    },
    "papermill": {
     "duration": 0.204567,
     "end_time": "2021-12-20T01:52:18.163356",
     "exception": false,
     "start_time": "2021-12-20T01:52:17.958789",
     "status": "completed"
    },
    "tags": []
   },
   "outputs": [
    {
     "name": "stderr",
     "output_type": "stream",
     "text": [
      "/opt/conda/lib/python3.7/site-packages/ipykernel_launcher.py:17: UserWarning: To copy construct from a tensor, it is recommended to use sourceTensor.clone().detach() or sourceTensor.clone().detach().requires_grad_(True), rather than torch.tensor(sourceTensor).\n"
     ]
    }
   ],
   "source": [
    "nameDataset = NameDataset(preprocessed_names, number_of_chars)\n",
    "dataLoader = torch.utils.data.DataLoader(nameDataset, train_batch_size, shuffle=True)\n",
    "names, output = next(iter(dataLoader))"
   ]
  },
  {
   "cell_type": "code",
   "execution_count": 9,
   "id": "6db2c188",
   "metadata": {
    "_cell_guid": "b1076dfc-b9ad-4769-8c92-a6c4dae69d19",
    "_uuid": "8f2839f25d086af736a60e9eeb907d3b93b6e0e5",
    "execution": {
     "iopub.execute_input": "2021-12-20T01:52:18.189567Z",
     "iopub.status.busy": "2021-12-20T01:52:18.188661Z",
     "iopub.status.idle": "2021-12-20T01:52:18.197253Z",
     "shell.execute_reply": "2021-12-20T01:52:18.197708Z",
     "shell.execute_reply.started": "2021-12-20T01:09:02.797717Z"
    },
    "papermill": {
     "duration": 0.023288,
     "end_time": "2021-12-20T01:52:18.197900",
     "exception": false,
     "start_time": "2021-12-20T01:52:18.174612",
     "status": "completed"
    },
    "tags": []
   },
   "outputs": [],
   "source": [
    "class NameDataset(torch.utils.data.Dataset):\n",
    "    alphabet_encoding = {'a': 0, 'b': 1, 'c': 2, 'd': 3, 'e': 4, 'f': 5, 'g': 6, 'h': 7, 'i': 8, 'j': 9, 'k': 10, 'l': 11, 'm': 12,\n",
    "                    'n': 13, 'o': 14, 'p': 15, 'q': 16, 'r': 17, 's': 18, 't': 19, 'u': 20, 'v': 21, 'w': 22, 'x': 23, 'y': 24,\n",
    "                    'z': 25, '\\n': 26}\n",
    "    def __init__(self, names, max_length):\n",
    "        self.names = names\n",
    "        self.max_length = max_length\n",
    "    def __len__(self):\n",
    "        return len(self.names)\n",
    "    def __getitem__(self, index):\n",
    "        name = self.names[index]\n",
    "        expected_output = self.names[index][1:] + '\\n'\n",
    "        encoded_name = self.oneHotEncoding(name)\n",
    "        encoded_output = [self.alphabet_encoding[word] for index, word in enumerate(expected_output)]\n",
    "        encoded_output = torch.tensor(encoded_output)\n",
    "        convert_target_to_long = encoded_output.type(torch.LongTensor)\n",
    "        convert_data_to_long = encoded_name.type(torch.LongTensor)\n",
    "        return convert_data_to_long, convert_target_to_long\n",
    "    def oneHotEncoding(self, word_to_convert):\n",
    "        letter_indexes = [self.alphabet_encoding[char] for char in word_to_convert]\n",
    "#         print('word', letter_indexes)\n",
    "        one_hot_encoded_string = F.one_hot(torch.tensor(letter_indexes), num_classes = 27)\n",
    "        return one_hot_encoded_string"
   ]
  },
  {
   "cell_type": "code",
   "execution_count": 10,
   "id": "ab0c00df",
   "metadata": {
    "_cell_guid": "b1076dfc-b9ad-4769-8c92-a6c4dae69d19",
    "_uuid": "8f2839f25d086af736a60e9eeb907d3b93b6e0e5",
    "execution": {
     "iopub.execute_input": "2021-12-20T01:52:18.224131Z",
     "iopub.status.busy": "2021-12-20T01:52:18.223519Z",
     "iopub.status.idle": "2021-12-20T01:52:18.230826Z",
     "shell.execute_reply": "2021-12-20T01:52:18.231301Z",
     "shell.execute_reply.started": "2021-12-20T01:09:02.812465Z"
    },
    "papermill": {
     "duration": 0.022177,
     "end_time": "2021-12-20T01:52:18.231471",
     "exception": false,
     "start_time": "2021-12-20T01:52:18.209294",
     "status": "completed"
    },
    "tags": []
   },
   "outputs": [],
   "source": [
    "class NameModel(nn.Module):\n",
    "    def __init__(self, input_size, hidden_size, number_of_layers, output_size, number_of_chars, batch_size):\n",
    "        super(NameModel, self).__init__()\n",
    "        self.number_of_chars = number_of_chars\n",
    "        self.input_size = input_size\n",
    "        self.hidden_size = hidden_size\n",
    "        self.number_of_layers = number_of_layers\n",
    "        self.batch_size = batch_size\n",
    "        self.lstm = nn.LSTM(input_size=input_size, hidden_size=hidden_size, num_layers=number_of_layers, batch_first=True)\n",
    "        self.fc2 = nn.Linear(hidden_size, output_size)\n",
    "        self.fc3 = nn.Linear(output_size, output_size)\n",
    "    def forward(self, X, states):\n",
    "        h, c = states\n",
    "        out, (h, c) = self.lstm(X, (h, c))\n",
    "        out = F.relu(self.fc2(out))\n",
    "        out = self.fc3(out)\n",
    "        return out, (h, c)\n",
    "    def initStateArguments(self):\n",
    "        h = torch.zeros((self.number_of_layers, self.batch_size, self.hidden_size))\n",
    "        c = torch.zeros((self.number_of_layers, self.batch_size, self.hidden_size))\n",
    "        return h, c"
   ]
  },
  {
   "cell_type": "code",
   "execution_count": 11,
   "id": "2ea5777a",
   "metadata": {
    "_cell_guid": "b1076dfc-b9ad-4769-8c92-a6c4dae69d19",
    "_uuid": "8f2839f25d086af736a60e9eeb907d3b93b6e0e5",
    "execution": {
     "iopub.execute_input": "2021-12-20T01:52:18.257344Z",
     "iopub.status.busy": "2021-12-20T01:52:18.256723Z",
     "iopub.status.idle": "2021-12-20T01:52:18.264344Z",
     "shell.execute_reply": "2021-12-20T01:52:18.264896Z",
     "shell.execute_reply.started": "2021-12-20T01:09:02.833764Z"
    },
    "papermill": {
     "duration": 0.022166,
     "end_time": "2021-12-20T01:52:18.265070",
     "exception": false,
     "start_time": "2021-12-20T01:52:18.242904",
     "status": "completed"
    },
    "tags": []
   },
   "outputs": [],
   "source": [
    "def train(model, device, train_data, optimizer, scheduler, lossFn):\n",
    "    number_of_epochs = 500\n",
    "    model.train()\n",
    "    epoch_loss_array = []\n",
    "    epoch_loss = 0\n",
    "    iteration = []\n",
    "#     torch.autograd.set_detect_anomaly(True)\n",
    "    for i, epoch in enumerate(range(number_of_epochs)):\n",
    "        h, c = model.initStateArguments()\n",
    "        h = h.to(device)\n",
    "        c = c.to(device)\n",
    "        epoch_loss = 0\n",
    "        for idx, (x, y) in enumerate(train_data):\n",
    "            x = x.float().to(device)\n",
    "            y = y.float().to(device)\n",
    "            # optimizer\n",
    "#             if (len(x) != len(y)):\n",
    "#                 print(idx)\n",
    "#                 print('len x', len(x), 'len y', len(y))\n",
    "#                 print('x = ', x, 'y = ', y)\n",
    "            optimizer.zero_grad()\n",
    "            predicted_output, (h, c) = model(x, (h, c))\n",
    "            predicted_output = predicted_output.transpose(1, 2)\n",
    "#             print(predicted_output.size(), y.size())\n",
    "            long_type_y = y.long()\n",
    "            loss = lossFn(predicted_output, long_type_y)\n",
    "            \n",
    "            h = h.detach()\n",
    "            c = c.detach()\n",
    "            \n",
    "            loss.backward(retain_graph=True)\n",
    "            optimizer.step()\n",
    "            scheduler.step()\n",
    "            epoch_loss += loss.item()\n",
    "        epoch_loss /= len(train_data)\n",
    "        epoch_loss_array.append(epoch_loss)\n",
    "        if (i % 10 == 0):\n",
    "            print(f\"epoch {epoch} loss: {epoch_loss}\")\n",
    "        iteration.append(i)\n",
    "    return epoch_loss_array, iteration"
   ]
  },
  {
   "cell_type": "code",
   "execution_count": 12,
   "id": "7ab18364",
   "metadata": {
    "_cell_guid": "b1076dfc-b9ad-4769-8c92-a6c4dae69d19",
    "_uuid": "8f2839f25d086af736a60e9eeb907d3b93b6e0e5",
    "execution": {
     "iopub.execute_input": "2021-12-20T01:52:18.290773Z",
     "iopub.status.busy": "2021-12-20T01:52:18.290233Z",
     "iopub.status.idle": "2021-12-20T02:09:33.925573Z",
     "shell.execute_reply": "2021-12-20T02:09:33.926230Z",
     "shell.execute_reply.started": "2021-12-20T01:09:02.850973Z"
    },
    "papermill": {
     "duration": 1035.650348,
     "end_time": "2021-12-20T02:09:33.926943",
     "exception": false,
     "start_time": "2021-12-20T01:52:18.276595",
     "status": "completed"
    },
    "tags": []
   },
   "outputs": [
    {
     "name": "stderr",
     "output_type": "stream",
     "text": [
      "/opt/conda/lib/python3.7/site-packages/ipykernel_launcher.py:17: UserWarning: To copy construct from a tensor, it is recommended to use sourceTensor.clone().detach() or sourceTensor.clone().detach().requires_grad_(True), rather than torch.tensor(sourceTensor).\n"
     ]
    },
    {
     "name": "stdout",
     "output_type": "stream",
     "text": [
      "epoch 0 loss: 2.3353449205557504\n",
      "epoch 10 loss: 1.2328953544298809\n",
      "epoch 20 loss: 1.1467199126879375\n",
      "epoch 30 loss: 1.1094255447387695\n",
      "epoch 40 loss: 1.0889639457066853\n",
      "epoch 50 loss: 1.0775817533334096\n",
      "epoch 60 loss: 1.0708793501059215\n",
      "epoch 70 loss: 1.06308717528979\n",
      "epoch 80 loss: 1.0580889383951824\n",
      "epoch 90 loss: 1.0552080571651459\n",
      "epoch 100 loss: 1.0500761369864147\n",
      "epoch 110 loss: 1.046540488799413\n",
      "epoch 120 loss: 1.0439485410849254\n",
      "epoch 130 loss: 1.0430824061234791\n",
      "epoch 140 loss: 1.0403009255727131\n",
      "epoch 150 loss: 1.0383646190166473\n",
      "epoch 160 loss: 1.036787708600362\n",
      "epoch 170 loss: 1.0353500346342723\n",
      "epoch 180 loss: 1.0345604320367177\n",
      "epoch 190 loss: 1.0332466562589009\n",
      "epoch 200 loss: 1.0326174994309743\n",
      "epoch 210 loss: 1.0312343041102092\n",
      "epoch 220 loss: 1.0298019548257191\n",
      "epoch 230 loss: 1.0296727418899536\n",
      "epoch 240 loss: 1.0284009476502736\n",
      "epoch 250 loss: 1.0278725226720173\n",
      "epoch 260 loss: 1.0275388062000275\n",
      "epoch 270 loss: 1.02654168009758\n",
      "epoch 280 loss: 1.025834898153941\n",
      "epoch 290 loss: 1.0254880487918854\n",
      "epoch 300 loss: 1.0252186556657155\n",
      "epoch 310 loss: 1.0247268378734589\n",
      "epoch 320 loss: 1.0242404242356618\n",
      "epoch 330 loss: 1.023499459028244\n",
      "epoch 340 loss: 1.023363282283147\n",
      "epoch 350 loss: 1.0229344566663106\n",
      "epoch 360 loss: 1.0223323206106822\n",
      "epoch 370 loss: 1.0224772195021312\n",
      "epoch 380 loss: 1.0219744741916656\n",
      "epoch 390 loss: 1.0216498374938965\n",
      "epoch 400 loss: 1.0213824113210042\n",
      "epoch 410 loss: 1.0211852689584096\n",
      "epoch 420 loss: 1.0208935538927715\n",
      "epoch 430 loss: 1.0208206176757812\n",
      "epoch 440 loss: 1.020665059487025\n",
      "epoch 450 loss: 1.0205348233381908\n",
      "epoch 460 loss: 1.0202761193116505\n",
      "epoch 470 loss: 1.0198958019415538\n",
      "epoch 480 loss: 1.020056039094925\n",
      "epoch 490 loss: 1.019820084174474\n"
     ]
    }
   ],
   "source": [
    "model = NameModel(input_size, hidden_size, number_of_layers, output_size, number_of_chars, train_batch_size)\n",
    "model = model.to(device)\n",
    "# loss fn\n",
    "lossFn = nn.CrossEntropyLoss()\n",
    "optimizer = torch.optim.Adam(model.parameters(), lr = 0.03)\n",
    "scheduler = torch.optim.lr_scheduler.StepLR(optimizer, step_size = 200, gamma = 0.90)\n",
    "\n",
    "loss, epoch = train(model, device, dataLoader, optimizer, scheduler, lossFn)"
   ]
  },
  {
   "cell_type": "code",
   "execution_count": 13,
   "id": "bd4a69a5",
   "metadata": {
    "execution": {
     "iopub.execute_input": "2021-12-20T02:09:33.981277Z",
     "iopub.status.busy": "2021-12-20T02:09:33.980602Z",
     "iopub.status.idle": "2021-12-20T02:09:34.215572Z",
     "shell.execute_reply": "2021-12-20T02:09:34.216029Z",
     "shell.execute_reply.started": "2021-12-20T01:31:53.333729Z"
    },
    "papermill": {
     "duration": 0.266174,
     "end_time": "2021-12-20T02:09:34.216222",
     "exception": false,
     "start_time": "2021-12-20T02:09:33.950048",
     "status": "completed"
    },
    "tags": []
   },
   "outputs": [
    {
     "data": {
      "image/png": "[encoded data removed]",
      "text/plain": [
       "<Figure size 432x288 with 1 Axes>"
      ]
     },
     "metadata": {
      "needs_background": "light"
     },
     "output_type": "display_data"
    }
   ],
   "source": [
    "plotFunction(loss, epoch, 'Epoch', 'Loss', 'Graph showing loss with epochs')"
   ]
  },
  {
   "cell_type": "code",
   "execution_count": 14,
   "id": "ccb60524",
   "metadata": {
    "execution": {
     "iopub.execute_input": "2021-12-20T02:09:34.268084Z",
     "iopub.status.busy": "2021-12-20T02:09:34.267528Z",
     "iopub.status.idle": "2021-12-20T02:09:34.271327Z",
     "shell.execute_reply": "2021-12-20T02:09:34.271781Z",
     "shell.execute_reply.started": "2021-12-20T01:31:53.63691Z"
    },
    "papermill": {
     "duration": 0.031787,
     "end_time": "2021-12-20T02:09:34.271937",
     "exception": false,
     "start_time": "2021-12-20T02:09:34.240150",
     "status": "completed"
    },
    "tags": []
   },
   "outputs": [],
   "source": [
    "torch.save(model.state_dict(), './modelLSTM2.pth')"
   ]
  },
  {
   "cell_type": "code",
   "execution_count": 15,
   "id": "a81724f7",
   "metadata": {
    "execution": {
     "iopub.execute_input": "2021-12-20T02:09:34.322697Z",
     "iopub.status.busy": "2021-12-20T02:09:34.322064Z",
     "iopub.status.idle": "2021-12-20T02:09:34.325063Z",
     "shell.execute_reply": "2021-12-20T02:09:34.325597Z",
     "shell.execute_reply.started": "2021-12-20T01:40:31.530948Z"
    },
    "papermill": {
     "duration": 0.030444,
     "end_time": "2021-12-20T02:09:34.325758",
     "exception": false,
     "start_time": "2021-12-20T02:09:34.295314",
     "status": "completed"
    },
    "tags": []
   },
   "outputs": [],
   "source": [
    "torch.save(model, './modelLSTM2.pt')"
   ]
  },
  {
   "cell_type": "code",
   "execution_count": null,
   "id": "a969a3e9",
   "metadata": {
    "papermill": {
     "duration": 0.023117,
     "end_time": "2021-12-20T02:09:34.372381",
     "exception": false,
     "start_time": "2021-12-20T02:09:34.349264",
     "status": "completed"
    },
    "tags": []
   },
   "outputs": [],
   "source": []
  }
 ],
 "metadata": {
  "kernelspec": {
   "display_name": "Python 3",
   "language": "python",
   "name": "python3"
  },
  "language_info": {
   "codemirror_mode": {
    "name": "ipython",
    "version": 3
   },
   "file_extension": ".py",
   "mimetype": "text/x-python",
   "name": "python",
   "nbconvert_exporter": "python",
   "pygments_lexer": "ipython3",
   "version": "3.7.12"
  },
  "papermill": {
   "default_parameters": {},
   "duration": 1047.574399,
   "end_time": "2021-12-20T02:09:35.108816",
   "environment_variables": {},
   "exception": null,
   "input_path": "__notebook__.ipynb",
   "output_path": "__notebook__.ipynb",
   "parameters": {},
   "start_time": "2021-12-20T01:52:07.534417",
   "version": "2.3.3"
  }
 },
 "nbformat": 4,
 "nbformat_minor": 5
}
