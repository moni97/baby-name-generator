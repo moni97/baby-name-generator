{
 "cells": [
  {
   "cell_type": "code",
   "execution_count": 1,
   "id": "7f24db1d",
   "metadata": {
    "execution": {
     "iopub.execute_input": "2021-12-20T20:12:38.639669Z",
     "iopub.status.busy": "2021-12-20T20:12:38.636202Z",
     "iopub.status.idle": "2021-12-20T20:12:39.928585Z",
     "shell.execute_reply": "2021-12-20T20:12:39.927699Z",
     "shell.execute_reply.started": "2021-12-20T20:08:17.480010Z"
    },
    "papermill": {
     "duration": 1.310062,
     "end_time": "2021-12-20T20:12:39.928773",
     "exception": false,
     "start_time": "2021-12-20T20:12:38.618711",
     "status": "completed"
    },
    "tags": []
   },
   "outputs": [],
   "source": [
    "import numpy as np\n",
    "import os\n",
    "import torch\n",
    "import torch.nn as nn\n",
    "import torch.nn.functional as F\n",
    "import string"
   ]
  },
  {
   "cell_type": "code",
   "execution_count": 2,
   "id": "8daae44a",
   "metadata": {
    "execution": {
     "iopub.execute_input": "2021-12-20T20:12:39.954290Z",
     "iopub.status.busy": "2021-12-20T20:12:39.953544Z",
     "iopub.status.idle": "2021-12-20T20:12:39.957546Z",
     "shell.execute_reply": "2021-12-20T20:12:39.956859Z",
     "shell.execute_reply.started": "2021-12-20T19:49:23.933878Z"
    },
    "papermill": {
     "duration": 0.02093,
     "end_time": "2021-12-20T20:12:39.957688",
     "exception": false,
     "start_time": "2021-12-20T20:12:39.936758",
     "status": "completed"
    },
    "tags": []
   },
   "outputs": [],
   "source": [
    "class NameModel(nn.Module):\n",
    "    def __init__(self, input_size, hidden_size, number_of_layers, output_size, number_of_chars, batch_size):\n",
    "        super(NameModel, self).__init__()\n",
    "        self.number_of_chars = number_of_chars\n",
    "        self.input_size = input_size\n",
    "        self.hidden_size = hidden_size\n",
    "        self.number_of_layers = number_of_layers\n",
    "        self.batch_size = batch_size\n",
    "        self.lstm = nn.LSTM(input_size=input_size, hidden_size=hidden_size, num_layers=number_of_layers, batch_first=True)\n",
    "        self.fc2 = nn.Linear(hidden_size, output_size)\n",
    "        self.fc3 = nn.Linear(output_size, output_size)\n",
    "    def forward(self, X, states):\n",
    "        h, c = states\n",
    "        out, (h, c) = self.lstm(X, (h, c))\n",
    "        out = F.relu(self.fc2(out))\n",
    "        out = self.fc3(out)\n",
    "        return out, (h, c)\n",
    "    def initStateArguments(self):\n",
    "        h = torch.zeros((self.number_of_layers, self.batch_size, self.hidden_size))\n",
    "        c = torch.zeros((self.number_of_layers, self.batch_size, self.hidden_size))\n",
    "        return h, c"
   ]
  },
  {
   "cell_type": "code",
   "execution_count": 3,
   "id": "2e259871",
   "metadata": {
    "execution": {
     "iopub.execute_input": "2021-12-20T20:12:39.984108Z",
     "iopub.status.busy": "2021-12-20T20:12:39.983390Z",
     "iopub.status.idle": "2021-12-20T20:12:39.985901Z",
     "shell.execute_reply": "2021-12-20T20:12:39.985291Z",
     "shell.execute_reply.started": "2021-12-20T19:49:23.944496Z"
    },
    "papermill": {
     "duration": 0.02131,
     "end_time": "2021-12-20T20:12:39.986072",
     "exception": false,
     "start_time": "2021-12-20T20:12:39.964762",
     "status": "completed"
    },
    "tags": []
   },
   "outputs": [],
   "source": [
    "def generateNames(model, start, no_of_chars, number_of_names):\n",
    "    maximum = 5\n",
    "    number_of_layers = 1\n",
    "    hidden_size = 27\n",
    "    names = []\n",
    "    for i in range(number_of_names):\n",
    "        char = start\n",
    "        name = start\n",
    "        h = torch.zeros((number_of_layers, 1, hidden_size))\n",
    "        t = torch.zeros((number_of_layers, 1, hidden_size))\n",
    "        chosen_index = np.inf\n",
    "        length = 1\n",
    "        previous_length = no_of_chars\n",
    "        counter = 1\n",
    "        while length < no_of_chars and chosen_index != 26:\n",
    "            X = torch.zeros((1, 1, 27))\n",
    "            X[0, 0, alphabet_encoding[char]] = 1\n",
    "            out, (h, t) = model(X, (h, t))\n",
    "            val, ind = torch.topk(out[0][0], maximum)\n",
    "            index_to_change = np.random.randint(1, previous_length)\n",
    "            if length == counter:\n",
    "                chosen_index = np.random.randint(1, maximum)\n",
    "                char = id_to_char[ind[chosen_index].item()]\n",
    "            else:\n",
    "                chosen_index = ind[0].item()\n",
    "                char = id_to_char[chosen_index]\n",
    "            name += char\n",
    "            length += 1\n",
    "            counter += 1\n",
    "            counter = counter % 5\n",
    "        previous_length = length\n",
    "        names.append(name)\n",
    "    return names"
   ]
  },
  {
   "cell_type": "code",
   "execution_count": 4,
   "id": "3274f26f",
   "metadata": {
    "execution": {
     "iopub.execute_input": "2021-12-20T20:12:40.008012Z",
     "iopub.status.busy": "2021-12-20T20:12:40.007296Z",
     "iopub.status.idle": "2021-12-20T20:12:40.010100Z",
     "shell.execute_reply": "2021-12-20T20:12:40.009348Z",
     "shell.execute_reply.started": "2021-12-20T19:49:24.127072Z"
    },
    "papermill": {
     "duration": 0.017598,
     "end_time": "2021-12-20T20:12:40.010266",
     "exception": false,
     "start_time": "2021-12-20T20:12:39.992668",
     "status": "completed"
    },
    "tags": []
   },
   "outputs": [],
   "source": [
    "alphabet_encoding = {'a': 0, 'b': 1, 'c': 2, 'd': 3, 'e': 4, 'f': 5, 'g': 6, 'h': 7, 'i': 8, 'j': 9, 'k': 10, 'l': 11, 'm': 12,\n",
    "                    'n': 13, 'o': 14, 'p': 15, 'q': 16, 'r': 17, 's': 18, 't': 19, 'u': 20, 'v': 21, 'w': 22, 'x': 23, 'y': 24,\n",
    "                    'z': 25, '\\n': 26}\n",
    "chars = string.ascii_lowercase + '\\n'\n",
    "char_to_id = {c:i for i, c in enumerate(chars)}\n",
    "id_to_char = {v:k for k, v in char_to_id.items()}"
   ]
  },
  {
   "cell_type": "code",
   "execution_count": 5,
   "id": "9e783749",
   "metadata": {
    "execution": {
     "iopub.execute_input": "2021-12-20T20:12:40.031219Z",
     "iopub.status.busy": "2021-12-20T20:12:40.030525Z",
     "iopub.status.idle": "2021-12-20T20:12:40.078072Z",
     "shell.execute_reply": "2021-12-20T20:12:40.078576Z",
     "shell.execute_reply.started": "2021-12-20T19:49:24.296497Z"
    },
    "papermill": {
     "duration": 0.061794,
     "end_time": "2021-12-20T20:12:40.078736",
     "exception": false,
     "start_time": "2021-12-20T20:12:40.016942",
     "status": "completed"
    },
    "tags": []
   },
   "outputs": [
    {
     "data": {
      "text/plain": [
       "NameModel(\n",
       "  (lstm): LSTM(27, 27, batch_first=True)\n",
       "  (fc2): Linear(in_features=27, out_features=27, bias=True)\n",
       "  (fc3): Linear(in_features=27, out_features=27, bias=True)\n",
       ")"
      ]
     },
     "execution_count": 5,
     "metadata": {},
     "output_type": "execute_result"
    }
   ],
   "source": [
    "device = torch.device('cuda' if torch.cuda.is_available() else 'cpu')\n",
    "model = NameModel(27, 27, 1, 27, 11, 39)\n",
    "model.load_state_dict(torch.load(f\"../input/namesgeneratormodel/modelLSTM2.pth\"))\n",
    "model.eval()"
   ]
  },
  {
   "cell_type": "code",
   "execution_count": 6,
   "id": "44f6b1c0",
   "metadata": {
    "execution": {
     "iopub.execute_input": "2021-12-20T20:12:40.099520Z",
     "iopub.status.busy": "2021-12-20T20:12:40.098719Z",
     "iopub.status.idle": "2021-12-20T20:12:40.203229Z",
     "shell.execute_reply": "2021-12-20T20:12:40.203761Z",
     "shell.execute_reply.started": "2021-12-20T19:50:20.602844Z"
    },
    "papermill": {
     "duration": 0.118011,
     "end_time": "2021-12-20T20:12:40.203953",
     "exception": false,
     "start_time": "2021-12-20T20:12:40.085942",
     "status": "completed"
    },
    "tags": []
   },
   "outputs": [
    {
     "name": "stdout",
     "output_type": "stream",
     "text": [
      "noher\n",
      "nohem\n",
      "nislo\n",
      "neslow\n",
      "neevia\n",
      "noavalena\n",
      "nossa\n",
      "nissia\n",
      "nysten\n",
      "nistian\n",
      "nilly\n",
      "noadamari\n",
      "niyula\n",
      "nycky\n",
      "nysan\n",
      "noahan\n",
      "neeve\n",
      "nycille\n",
      "neiar\n",
      "neison\n"
     ]
    }
   ],
   "source": [
    "alphabets = string.ascii_lowercase\n",
    "letter_index = np.random.randint(0, len(alphabets) - 1)\n",
    "letter = alphabets[letter_index]\n",
    "#letter = input(\"Enter a letter\")\n",
    "names = generateNames(model, letter, 11, 20)\n",
    "output_names = []\n",
    "for i in range(len(names)):\n",
    "    output_names.append(names[i].replace('\\n', ''))\n",
    "    print(output_names[i])"
   ]
  }
 ],
 "metadata": {
  "kernelspec": {
   "display_name": "Python 3",
   "language": "python",
   "name": "python3"
  },
  "language_info": {
   "codemirror_mode": {
    "name": "ipython",
    "version": 3
   },
   "file_extension": ".py",
   "mimetype": "text/x-python",
   "name": "python",
   "nbconvert_exporter": "python",
   "pygments_lexer": "ipython3",
   "version": "3.7.12"
  },
  "papermill": {
   "default_parameters": {},
   "duration": 15.687777,
   "end_time": "2021-12-20T20:12:43.629766",
   "environment_variables": {},
   "exception": null,
   "input_path": "__notebook__.ipynb",
   "output_path": "__notebook__.ipynb",
   "parameters": {},
   "start_time": "2021-12-20T20:12:27.941989",
   "version": "2.3.3"
  }
 },
 "nbformat": 4,
 "nbformat_minor": 5
}
